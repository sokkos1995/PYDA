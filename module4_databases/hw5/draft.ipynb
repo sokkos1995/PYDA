{
 "cells": [
  {
   "cell_type": "code",
   "execution_count": null,
   "metadata": {},
   "outputs": [],
   "source": [
    "def change_client(cur, client_id, name=None, surname=None, email=None):\n",
    "    current_user = cur.execute('''\n",
    "    SELECT * from clients\n",
    "    WHERE client_id = %s\n",
    "    ''', (client_id, )).fetchone()\n",
    "    if name is None:\n",
    "        name = current_user[1]\n",
    "    if surname is None:\n",
    "        surname = current_user[2]\n",
    "    if email is None:\n",
    "        email = current_user[3]\n",
    "    cur.execute('''\n",
    "    UPDATE clients\n",
    "    SET name = %s, lastname = %s, email = %s\n",
    "    WHERE cleint_id = %s\n",
    "    ''', (name, surname, email, client_id))"
   ]
  }
 ],
 "metadata": {
  "kernelspec": {
   "display_name": "Python 3.10.6 64-bit",
   "language": "python",
   "name": "python3"
  },
  "language_info": {
   "name": "python",
   "version": "3.10.6"
  },
  "orig_nbformat": 4,
  "vscode": {
   "interpreter": {
    "hash": "aee8b7b246df8f9039afb4144a1f6fd8d2ca17a180786b69acc140d282b71a49"
   }
  }
 },
 "nbformat": 4,
 "nbformat_minor": 2
}
