{
 "cells": [
  {
   "cell_type": "code",
   "execution_count": 2,
   "metadata": {},
   "outputs": [
    {
     "name": "stdout",
     "output_type": "stream",
     "text": [
      "{'data': {'album': {'playability': {'playable': True}, 'tracks': {'totalCount': 10, 'items': [{'uid': '3d026f76adb5928f0e59', 'track': {'saved': False, 'uri': 'spotify:track:5jvhTc0g18kwYQNUJM5C4e', 'name': 'Makina', 'playcount': '95687655', 'discNumber': 1, 'trackNumber': 1, 'contentRating': {'label': 'EXPLICIT'}, 'relinkingInformation': None, 'duration': {'totalMilliseconds': 211016}, 'playability': {'playable': True}, 'artists': {'items': [{'uri': 'spotify:artist:51DevdOxIJin6DB1FXJpD1', 'profile': {'name': 'UZI'}}]}}}, {'uid': '419656ce995b7d2148d1', 'track': {'saved': False, 'uri': 'spotify:track:72t3CRd8YEFrlc3x0OVaob', 'name': 'Umrumda Değil', 'playcount': '114516143', 'discNumber': 1, 'trackNumber': 2, 'contentRating': {'label': 'EXPLICIT'}, 'relinkingInformation': None, 'duration': {'totalMilliseconds': 185458}, 'playability': {'playable': True}, 'artists': {'items': [{'uri': 'spotify:artist:51DevdOxIJin6DB1FXJpD1', 'profile': {'name': 'UZI'}}]}}}, {'uid': 'dbfa6b79b176daea3899', 'track': {'saved': False, 'uri': 'spotify:track:5TkQatzJqKafPgHQerZ0dL', 'name': 'Gecenin Içine Gir', 'playcount': '14998798', 'discNumber': 1, 'trackNumber': 3, 'contentRating': {'label': 'NONE'}, 'relinkingInformation': None, 'duration': {'totalMilliseconds': 200000}, 'playability': {'playable': True}, 'artists': {'items': [{'uri': 'spotify:artist:51DevdOxIJin6DB1FXJpD1', 'profile': {'name': 'UZI'}}, {'uri': 'spotify:artist:3BVPc9s4JXzM6O1InlLxED', 'profile': {'name': 'Mavi'}}]}}}, {'uid': '58f3989f6fdefaf1c9be', 'track': {'saved': False, 'uri': 'spotify:track:6IW5ocUH5DRWagxkLTlbUS', 'name': 'Nedenini Sorma', 'playcount': '22841431', 'discNumber': 1, 'trackNumber': 4, 'contentRating': {'label': 'EXPLICIT'}, 'relinkingInformation': None, 'duration': {'totalMilliseconds': 243205}, 'playability': {'playable': True}, 'artists': {'items': [{'uri': 'spotify:artist:51DevdOxIJin6DB1FXJpD1', 'profile': {'name': 'UZI'}}]}}}, {'uid': '15dadc3ce6fa19b40977', 'track': {'saved': False, 'uri': 'spotify:track:1ijjjMFlM3Pe8t3ykXBzxk', 'name': 'Mahalle', 'playcount': '10106255', 'discNumber': 1, 'trackNumber': 5, 'contentRating': {'label': 'EXPLICIT'}, 'relinkingInformation': None, 'duration': {'totalMilliseconds': 152301}, 'playability': {'playable': True}, 'artists': {'items': [{'uri': 'spotify:artist:51DevdOxIJin6DB1FXJpD1', 'profile': {'name': 'UZI'}}, {'uri': 'spotify:artist:7GaMopkesD4KK9dNbgyO5D', 'profile': {'name': 'Eko Fresh'}}]}}}, {'uid': 'd465e72cf8573ced392a', 'track': {'saved': False, 'uri': 'spotify:track:4a1WLOoydq7u011UG9jjC9', 'name': 'Krvn', 'playcount': '113778313', 'discNumber': 1, 'trackNumber': 6, 'contentRating': {'label': 'EXPLICIT'}, 'relinkingInformation': None, 'duration': {'totalMilliseconds': 171880}, 'playability': {'playable': True}, 'artists': {'items': [{'uri': 'spotify:artist:51DevdOxIJin6DB1FXJpD1', 'profile': {'name': 'UZI'}}]}}}, {'uid': 'b13b0f5f5cc4e9cb104a', 'track': {'saved': False, 'uri': 'spotify:track:4hy4nY2PiYWx8qVXjpky3P', 'name': 'Vur', 'playcount': '25635133', 'discNumber': 1, 'trackNumber': 7, 'contentRating': {'label': 'EXPLICIT'}, 'relinkingInformation': None, 'duration': {'totalMilliseconds': 155010}, 'playability': {'playable': True}, 'artists': {'items': [{'uri': 'spotify:artist:51DevdOxIJin6DB1FXJpD1', 'profile': {'name': 'UZI'}}]}}}, {'uid': 'cc1f597105ee3f74e5ef', 'track': {'saved': False, 'uri': 'spotify:track:4PpYi6USHlY7OhOcDASnD3', 'name': 'Davetiye', 'playcount': '15330022', 'discNumber': 1, 'trackNumber': 8, 'contentRating': {'label': 'EXPLICIT'}, 'relinkingInformation': None, 'duration': {'totalMilliseconds': 223608}, 'playability': {'playable': True}, 'artists': {'items': [{'uri': 'spotify:artist:51DevdOxIJin6DB1FXJpD1', 'profile': {'name': 'UZI'}}, {'uri': 'spotify:artist:6dOAGo4z0syiCjbnlh4VSO', 'profile': {'name': 'Critical'}}]}}}, {'uid': 'a65e4830380ecca8e75e', 'track': {'saved': False, 'uri': 'spotify:track:5gx3dMxQGJ1JDw5qHarRqp', 'name': 'Elhamdulillah', 'playcount': '8003303', 'discNumber': 1, 'trackNumber': 9, 'contentRating': {'label': 'EXPLICIT'}, 'relinkingInformation': None, 'duration': {'totalMilliseconds': 196682}, 'playability': {'playable': True}, 'artists': {'items': [{'uri': 'spotify:artist:51DevdOxIJin6DB1FXJpD1', 'profile': {'name': 'UZI'}}, {'uri': 'spotify:artist:3R27mVPp04i87RNmvysZfY', 'profile': {'name': 'Stap'}}]}}}, {'uid': 'e540efaba938853ed3b6', 'track': {'saved': False, 'uri': 'spotify:track:4PUniKS3Cywu23xjdtoji5', 'name': 'Outro', 'playcount': '41796653', 'discNumber': 1, 'trackNumber': 10, 'contentRating': {'label': 'NONE'}, 'relinkingInformation': None, 'duration': {'totalMilliseconds': 192694}, 'playability': {'playable': True}, 'artists': {'items': [{'uri': 'spotify:artist:51DevdOxIJin6DB1FXJpD1', 'profile': {'name': 'UZI'}}]}}}]}}}, 'extensions': {'cacheControl': {'version': 1, 'hints': []}}}\n"
     ]
    }
   ],
   "source": [
    "import requests\n",
    "\n",
    "url = \"https://spotify23.p.rapidapi.com/album_tracks/\"\n",
    "\n",
    "querystring = {\"id\":\"3IBcauSj5M2A6lTeffJzdv\",\"offset\":\"0\",\"limit\":\"300\"}\n",
    "\n",
    "headers = {\n",
    "\t\"X-RapidAPI-Key\": \"4e103362e5mshe5cdf7bdd1090ebp1951cajsn219b1b6155e2\",\n",
    "\t\"X-RapidAPI-Host\": \"spotify23.p.rapidapi.com\"\n",
    "}\n",
    "\n",
    "response = requests.get(url, headers=headers, params=querystring)\n",
    "\n",
    "print(response.json())"
   ]
  },
  {
   "cell_type": "code",
   "execution_count": 23,
   "metadata": {},
   "outputs": [
    {
     "name": "stdout",
     "output_type": "stream",
     "text": [
      "UZI Makina 211016\n"
     ]
    }
   ],
   "source": [
    "# response.json()['data']['album']['tracks']['items']\n",
    "for track in response.json()['data']['album']['tracks']['items']:\n",
    "    print(track['track']['artists']['items'][0]['profile']['name'], \n",
    "          track['track']['name'], \n",
    "          track['track']['duration']['totalMilliseconds'])\n",
    "    # print(track)\n",
    "    break"
   ]
  },
  {
   "cell_type": "code",
   "execution_count": null,
   "metadata": {},
   "outputs": [],
   "source": [
    "\n",
    "\n",
    "\n",
    "\n",
    "\n",
    "\n",
    "\n",
    "\n",
    "\n",
    "\n",
    "dsc  \n",
    "\n",
    "\n",
    "\n",
    "\n"
   ]
  },
  {
   "cell_type": "code",
   "execution_count": null,
   "metadata": {},
   "outputs": [],
   "source": [
    "import requests\n",
    "\n",
    "url = \"https://spotify23.p.rapidapi.com/playlist_tracks/\"\n",
    "\n",
    "querystring = {\"id\":\"37i9dQZF1DX4Wsb4d7NKfP\",\"offset\":\"0\",\"limit\":\"100\"}\n",
    "\n",
    "headers = {\n",
    "\t\"X-RapidAPI-Key\": \"4e103362e5mshe5cdf7bdd1090ebp1951cajsn219b1b6155e2\",\n",
    "\t\"X-RapidAPI-Host\": \"spotify23.p.rapidapi.com\"\n",
    "}\n",
    "\n",
    "response = requests.get(url, headers=headers, params=querystring)\n",
    "\n",
    "print(response.json())"
   ]
  },
  {
   "cell_type": "code",
   "execution_count": 27,
   "metadata": {},
   "outputs": [
    {
     "name": "stdout",
     "output_type": "stream",
     "text": [
      "{'added_at': '2022-11-30T13:46:00Z', 'added_by': {'external_urls': {'spotify': 'https://open.spotify.com/user/'}, 'id': '', 'type': 'user', 'uri': 'spotify:user:'}, 'is_local': False, 'primary_color': None, 'sharing_info': {'share_id': 'X6kyCRqNTgSbbnax-AIDcA', 'share_url': 'https://open.spotify.com/track/5h1Zdr8ghV5RaWjtdfVo8w?si=X6kyCRqNTgSbbnax-AIDcA', 'uri': 'spotify:track:5h1Zdr8ghV5RaWjtdfVo8w'}, 'track': {'album': {'album_type': 'single', 'artists': [{'external_urls': {'spotify': 'https://open.spotify.com/artist/5wyWp867LWGjFmYZXVSFnZ'}, 'id': '5wyWp867LWGjFmYZXVSFnZ', 'name': 'MERO', 'type': 'artist', 'uri': 'spotify:artist:5wyWp867LWGjFmYZXVSFnZ'}, {'external_urls': {'spotify': 'https://open.spotify.com/artist/2y1VzMKAa5nmfXKtJL9jnj'}, 'id': '2y1VzMKAa5nmfXKtJL9jnj', 'name': 'Murda', 'type': 'artist', 'uri': 'spotify:artist:2y1VzMKAa5nmfXKtJL9jnj'}], 'external_urls': {'spotify': 'https://open.spotify.com/album/0BmtUyUSG5Qg1DY9Vw8hw8'}, 'id': '0BmtUyUSG5Qg1DY9Vw8hw8', 'images': [{'height': 640, 'url': 'https://i.scdn.co/image/ab67616d0000b2734c9476a0b18a79e53ab01816', 'width': 640}, {'height': 300, 'url': 'https://i.scdn.co/image/ab67616d00001e024c9476a0b18a79e53ab01816', 'width': 300}, {'height': 64, 'url': 'https://i.scdn.co/image/ab67616d000048514c9476a0b18a79e53ab01816', 'width': 64}], 'is_playable': True, 'name': 'Konum Gizli (feat. Murda)', 'release_date': '2022-05-12', 'release_date_precision': 'day', 'total_tracks': 4, 'type': 'album', 'uri': 'spotify:album:0BmtUyUSG5Qg1DY9Vw8hw8'}, 'artists': [{'external_urls': {'spotify': 'https://open.spotify.com/artist/5wyWp867LWGjFmYZXVSFnZ'}, 'id': '5wyWp867LWGjFmYZXVSFnZ', 'name': 'MERO', 'type': 'artist', 'uri': 'spotify:artist:5wyWp867LWGjFmYZXVSFnZ'}, {'external_urls': {'spotify': 'https://open.spotify.com/artist/2y1VzMKAa5nmfXKtJL9jnj'}, 'id': '2y1VzMKAa5nmfXKtJL9jnj', 'name': 'Murda', 'type': 'artist', 'uri': 'spotify:artist:2y1VzMKAa5nmfXKtJL9jnj'}], 'disc_number': 1, 'duration_ms': 198581, 'episode': False, 'explicit': False, 'external_ids': {'isrc': 'DECE72201431'}, 'external_urls': {'spotify': 'https://open.spotify.com/track/5h1Zdr8ghV5RaWjtdfVo8w'}, 'id': '5h1Zdr8ghV5RaWjtdfVo8w', 'is_local': False, 'is_playable': True, 'name': 'Konum Gizli (feat. Murda)', 'popularity': 68, 'preview_url': 'https://p.scdn.co/mp3-preview/70168fc2bca01bf504090bdd66baf141b6010e9d?cid=d8a5ed958d274c2e8ee717e6a4b0971d', 'track': True, 'track_number': 1, 'type': 'track', 'uri': 'spotify:track:5h1Zdr8ghV5RaWjtdfVo8w'}, 'video_thumbnail': {'url': None}}\n"
     ]
    }
   ],
   "source": [
    "playlist_tracks = response.json()['items']\n",
    "for track in playlist_tracks:\n",
    "    print(track)\n",
    "    break"
   ]
  }
 ],
 "metadata": {
  "kernelspec": {
   "display_name": "Python 3.10.6 64-bit",
   "language": "python",
   "name": "python3"
  },
  "language_info": {
   "codemirror_mode": {
    "name": "ipython",
    "version": 3
   },
   "file_extension": ".py",
   "mimetype": "text/x-python",
   "name": "python",
   "nbconvert_exporter": "python",
   "pygments_lexer": "ipython3",
   "version": "3.10.6"
  },
  "orig_nbformat": 4,
  "vscode": {
   "interpreter": {
    "hash": "aee8b7b246df8f9039afb4144a1f6fd8d2ca17a180786b69acc140d282b71a49"
   }
  }
 },
 "nbformat": 4,
 "nbformat_minor": 2
}
