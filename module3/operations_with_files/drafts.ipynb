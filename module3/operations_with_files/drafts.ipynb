{
 "cells": [
  {
   "cell_type": "code",
   "execution_count": null,
   "metadata": {},
   "outputs": [],
   "source": [
    "from pprint import pprint\n",
    "import requests\n",
    "\n",
    "URL = r'https://raw.githubusercontent.com/netology-code/py-homework-basic-files/master/2.4.files/recipes.txt'\n",
    "res = requests.get(URL)\n",
    "\n",
    "cook_book = {}\n",
    "for dish in res.text.split('\\n\\n'):\n",
    "    dish = dish.split('\\n')\n",
    "    key, value = dish[0], []\n",
    "    for i in range(int(dish[1])):\n",
    "        ingridient = {}\n",
    "        ingridient_list = dish[2 + i].split(' | ')\n",
    "        ingridient['ingredient_name'] = ingridient_list[0]\n",
    "        ingridient['quantity'] = int(ingridient_list[1])\n",
    "        ingridient['measure'] = ingridient_list[2]\n",
    "        value.append(ingridient)\n",
    "    cook_book[key] = value\n",
    "\n",
    "pprint(cook_book, sort_dicts=False)"
   ]
  },
  {
   "cell_type": "code",
   "execution_count": null,
   "metadata": {},
   "outputs": [],
   "source": [
    "def get_shop_list_by_dishes(dishes, person_count):\n",
    "    \"\"\" \n",
    "    get_shop_list_by_dishes(['Запеченный картофель', 'Омлет'], 2)\n",
    "    {\n",
    "    'Картофель': {'measure': 'кг', 'quantity': 2},\n",
    "    'Молоко': {'measure': 'мл', 'quantity': 200},\n",
    "    'Помидор': {'measure': 'шт', 'quantity': 4},\n",
    "    'Сыр гауда': {'measure': 'г', 'quantity': 200},\n",
    "    'Яйцо': {'measure': 'шт', 'quantity': 4},\n",
    "    'Чеснок': {'measure': 'зубч', 'quantity': 6}\n",
    "    }\n",
    "    \"\"\"\n",
    "    shop_list = dict()\n",
    "    for dish in dishes:\n",
    "        for ingridient in cook_book[dish]:\n",
    "            if ingridient not in list(shop_list.keys()):\n",
    "                value = dict()\n",
    "                value['measure'], value['quantity'] = ingridient['measure'], person_count * ingridient['quantity']\n",
    "                shop_list[ingridient['ingredient_name']] = value\n",
    "            else:\n",
    "                shop_list['ingredient_name']['quantity'] += person_count * ingridient['quantity']\n",
    "    return shop_list\n",
    "\n",
    "pprint(get_shop_list_by_dishes(['Запеченный картофель', 'Омлет'], 2))"
   ]
  },
  {
   "cell_type": "code",
   "execution_count": null,
   "metadata": {},
   "outputs": [],
   "source": [
    "URL1 = r'https://raw.githubusercontent.com/netology-code/py-homework-basic-files/master/2.4.files/sorted/1.txt'\n",
    "URL2 = r'https://raw.githubusercontent.com/netology-code/py-homework-basic-files/master/2.4.files/sorted/2.txt'\n",
    "URL3 = r'https://raw.githubusercontent.com/netology-code/py-homework-basic-files/master/2.4.files/sorted/3.txt'\n",
    "\n",
    "def make_list_with_metadata(URL):\n",
    "    \"\"\" \n",
    "    \n",
    "    \"\"\"\n",
    "    response = requests.get(URL)\n",
    "    return [URL.split('/')[-1], len(response.text.strip().split('\\n'))] + response.text.strip().split('\\n')\n",
    "\n",
    "file1 = make_list_with_metadata(URL1)\n",
    "file2 = make_list_with_metadata(URL2)\n",
    "file3 = make_list_with_metadata(URL3)\n",
    "list_of_files = sorted([file1, file2, file3], key=lambda file: file[1])\n",
    "for file in list_of_files:\n",
    "    print(*file, sep='\\n')\n",
    "    "
   ]
  },
  {
   "cell_type": "code",
   "execution_count": 41,
   "metadata": {},
   "outputs": [],
   "source": [
    "import os"
   ]
  }
 ],
 "metadata": {
  "kernelspec": {
   "display_name": "Python 3.10.6 64-bit",
   "language": "python",
   "name": "python3"
  },
  "language_info": {
   "codemirror_mode": {
    "name": "ipython",
    "version": 3
   },
   "file_extension": ".py",
   "mimetype": "text/x-python",
   "name": "python",
   "nbconvert_exporter": "python",
   "pygments_lexer": "ipython3",
   "version": "3.10.6"
  },
  "orig_nbformat": 4,
  "vscode": {
   "interpreter": {
    "hash": "aee8b7b246df8f9039afb4144a1f6fd8d2ca17a180786b69acc140d282b71a49"
   }
  }
 },
 "nbformat": 4,
 "nbformat_minor": 2
}
